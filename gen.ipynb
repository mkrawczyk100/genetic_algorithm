{
 "cells": [
  {
   "cell_type": "markdown",
   "metadata": {},
   "source": [
    "Pierwszym krokiem jest stworzenie populacji losowych ciągów bitowych. Możemy użyc wartości logicznych \"True\" i \"False\", wartości string '0' i '1' lub wartości int 0 i 1. W tym przykładzie, wykorzystamy wartości liczbowe.\n",
    "\n",
    "Możemy wygenerować tablicę wartości całkowitych w zadanym zakresie za pomocą funkcji randint() a następnie określić zakres jako wartości zaczynąjące się od 0 a kończące na 2. Naszymi wynikami bedą zera i jedynki. Aby przedstawić przykład w jak najprostszy sposób, proponowane rozwiązanie zaprezentuję jako listę zamiast tablicy NumPy.\n",
    "\n",
    "Poniżej prezentuję przykład utworzenia początkowej populacji losowej ciągu bitów. 'n_pop' jest hiperparametrem kontrolującym wielkość populacji, a 'n_bits' jest hiperparametrem definiującym liczbę bitów w pojedynczym rozwiązaniu."
   ]
  },
  {
   "cell_type": "code",
   "execution_count": 30,
   "metadata": {},
   "outputs": [],
   "source": [
    "# genetic algorithm search of the one max optimization problem\n",
    "from numpy.random import randint\n",
    "from numpy.random import rand"
   ]
  },
  {
   "cell_type": "code",
   "execution_count": 31,
   "metadata": {},
   "outputs": [
    {
     "name": "stdout",
     "output_type": "stream",
     "text": [
      "[[1, 0, 1, 0, 0], [0, 0, 0, 0, 0]]\n"
     ]
    }
   ],
   "source": [
    "n_bits= 5\n",
    "n_pop = 2\n",
    "# początkowa populacja losowego ciągu bitowego\n",
    "pop = [np.random.randint(0, 2, n_bits).tolist() for _ in range(n_pop)]\n",
    "print(pop)"
   ]
  },
  {
   "cell_type": "markdown",
   "metadata": {},
   "source": [
    "Następnie możemy wyliczyć stałą liczbę iteracji algorytmu, w tym przypadku za tą stałą będzie odpowiedzialny hiperparametr o nazwie 'n_iter'"
   ]
  },
  {
   "cell_type": "code",
   "execution_count": 21,
   "metadata": {},
   "outputs": [
    {
     "ename": "IndentationError",
     "evalue": "unexpected indent (1433582520.py, line 2)",
     "output_type": "error",
     "traceback": [
      "\u001b[1;36m  Cell \u001b[1;32mIn[21], line 2\u001b[1;36m\u001b[0m\n\u001b[1;33m    for gen in range(n_iter):\u001b[0m\n\u001b[1;37m    ^\u001b[0m\n\u001b[1;31mIndentationError\u001b[0m\u001b[1;31m:\u001b[0m unexpected indent\n"
     ]
    }
   ],
   "source": [
    "# enumerate generations\n",
    " for gen in range(n_iter):"
   ]
  },
  {
   "cell_type": "markdown",
   "metadata": {},
   "source": [
    "Pierwszym krokiem w jednej iteracji algorytmu jest ocena wszystkich potencjalnych rozwiązań.\n",
    "\n",
    "Użyjemy funkcji o nazwie cel() jako ogólnej funkcji celu i wywołamy ją, aby uzyskać wynik sprawności, który zminimalizujemy.\n"
   ]
  },
  {
   "cell_type": "code",
   "execution_count": 22,
   "metadata": {},
   "outputs": [],
   "source": [
    "#ocena wszystkich kandydatów w populacji\n",
    "wyniki = [cel(c) for c in pop]"
   ]
  },
  {
   "cell_type": "markdown",
   "metadata": {},
   "source": [
    "Następnie możemy wybrać rodziców, którzy zostaną wykorzystani do stworzenia dzieci."
   ]
  },
  {
   "cell_type": "markdown",
   "metadata": {},
   "source": [
    "Procedurę selekcji można zaimplementować jako funkcję, która pobiera populację i zwraca jednego wybranego rodzica. Wartość k jest ustalona na 3 z domyślnym argumentem."
   ]
  },
  {
   "cell_type": "code",
   "execution_count": 23,
   "metadata": {},
   "outputs": [],
   "source": [
    "# selekcja\n",
    "def selekcja(pop, wyniki, k=3):\n",
    "\t# pierwszy losowy wybór\n",
    "\tselekcja_ix = np.random.randint(len(pop))\n",
    "\tfor ix in np.random.randint(0, len(pop), k-1):\n",
    "\t\t# sprawdzanie czy wybrany został lepszy \n",
    "\t\tif wyniki[ix] < wyniki[selekcja_ix]:\n",
    "\t\t\tselekcja_ix = ix\n",
    "\treturn pop[selekcja_ix]"
   ]
  },
  {
   "cell_type": "markdown",
   "metadata": {},
   "source": [
    "Możemy następnie wywołać tę funkcję jeden raz dla każdej pozycji w populacji, aby utworzyć listę rodziców."
   ]
  },
  {
   "cell_type": "code",
   "execution_count": 24,
   "metadata": {},
   "outputs": [],
   "source": [
    "# wybór rodziców\n",
    "wybrani = [selekcja(pop, wyniki) for _ in range(n_pop)]"
   ]
  },
  {
   "cell_type": "markdown",
   "metadata": {},
   "source": [
    "Teraz możemy stworzyć kolejną generację"
   ]
  },
  {
   "cell_type": "markdown",
   "metadata": {},
   "source": [
    "Stworzenie kolejnej generacji najpierw wymaga funkcji do wykonania krzyżowania. Ta funkcja będzie uwzględniać dwoje rodziców i współczynnik krzyżowania. Współczynnik krzyżowania to hiperparametr określający, czy krzyżowanie jest wykonywane, czy nie, a jeśli nie, elementy nadrzędne są kopiowane do następnej generacji. Ten parametr to współczynnik prawdopodobieństwa i zazwyczaj ma dużą wartość bliską 1,0."
   ]
  },
  {
   "cell_type": "markdown",
   "metadata": {},
   "source": [
    "Poniższa funkcja krzyzowanie() implementuje krzyżowanie poprzez losowanie liczby z zakresu [0,1] w celu ustalenia, czy krzyżowanie jest wykonywane, a następnie wybiera prawidłowy punkt podziału, jeśli ma zostać przeprowadzone krzyżowanie."
   ]
  },
  {
   "cell_type": "code",
   "execution_count": 25,
   "metadata": {},
   "outputs": [],
   "source": [
    "# krzyżowanie dwóch rodziców w celu wygenerowania dwojga potomków\n",
    "def krzyzowanie(p1, p2, r_cross):\n",
    "    # potomkowie domyślnie są kopią rodziców\n",
    "\tc1, c2 = p1.copy(), p2.copy()\n",
    "\t# sprawdzanie w celu rekombinacji\n",
    "\tif rand() < r_cross:\n",
    "\t\t# select crossover point that is not on the end of the string\n",
    "        # wybór punktu krzyżowania, który nie znajduje się na końcu ciągu\n",
    "\t\tpt = np.random.randint(1, len(p1)-2)\n",
    "\t\t# wykonanie krzyżowania\n",
    "\t\tc1 = p1[:pt] + p2[pt:]\n",
    "\t\tc2 = p2[:pt] + p1[pt:]\n",
    "\treturn [c1, c2]"
   ]
  },
  {
   "cell_type": "markdown",
   "metadata": {},
   "source": [
    "Potrzebujemy również funkcji do przeprowadzenia mutacji.\n",
    "\n",
    "Ta procedura po prostu odwraca bity z niskim prawdopodobieństwem kontrolowanym przez hiperparametr „r_mut”."
   ]
  },
  {
   "cell_type": "code",
   "execution_count": 26,
   "metadata": {},
   "outputs": [],
   "source": [
    "# operator mutacji\n",
    "def mutacja(bitstring, r_mut):\n",
    "\tfor i in range(len(bitstring)):\n",
    "\t\t# sprawdzanie w celu przeprowadzenie mutacji\n",
    "\t\tif rand() < r_mut:\n",
    "\t\t\t# odwrócenie bitu\n",
    "\t\t\tbitstring[i] = 1 - bitstring[i]"
   ]
  },
  {
   "cell_type": "markdown",
   "metadata": {},
   "source": [
    "Aby utworzyć listę dzieci, które zostaną wykorzystane jako następne pokolenie, możemy zapętlić program przez listę rodziców, wywołując w razie potrzeby funkcje krzyżowania i mutacji"
   ]
  },
  {
   "cell_type": "code",
   "execution_count": 27,
   "metadata": {},
   "outputs": [
    {
     "ename": "NameError",
     "evalue": "name 'r_cross' is not defined",
     "output_type": "error",
     "traceback": [
      "\u001b[1;31m---------------------------------------------------------------------------\u001b[0m",
      "\u001b[1;31mNameError\u001b[0m                                 Traceback (most recent call last)",
      "\u001b[1;32mc:\\Users\\mateu\\Desktop\\algorytm genetyczny\\gen.ipynb Cell 20\u001b[0m line \u001b[0;36m8\n\u001b[0;32m      <a href='vscode-notebook-cell:/c%3A/Users/mateu/Desktop/algorytm%20genetyczny/gen.ipynb#X24sZmlsZQ%3D%3D?line=5'>6</a>\u001b[0m p1, p2 \u001b[39m=\u001b[39m wybrani[i], wybrani[i\u001b[39m+\u001b[39m\u001b[39m1\u001b[39m]\n\u001b[0;32m      <a href='vscode-notebook-cell:/c%3A/Users/mateu/Desktop/algorytm%20genetyczny/gen.ipynb#X24sZmlsZQ%3D%3D?line=6'>7</a>\u001b[0m \u001b[39m# krzyżowanie i mutacja\u001b[39;00m\n\u001b[1;32m----> <a href='vscode-notebook-cell:/c%3A/Users/mateu/Desktop/algorytm%20genetyczny/gen.ipynb#X24sZmlsZQ%3D%3D?line=7'>8</a>\u001b[0m \u001b[39mfor\u001b[39;00m c \u001b[39min\u001b[39;00m krzyzowanie(p1, p2, r_cross):\n\u001b[0;32m      <a href='vscode-notebook-cell:/c%3A/Users/mateu/Desktop/algorytm%20genetyczny/gen.ipynb#X24sZmlsZQ%3D%3D?line=8'>9</a>\u001b[0m \t\u001b[39m# utacja\u001b[39;00m\n\u001b[0;32m     <a href='vscode-notebook-cell:/c%3A/Users/mateu/Desktop/algorytm%20genetyczny/gen.ipynb#X24sZmlsZQ%3D%3D?line=9'>10</a>\u001b[0m \tmutacja(c, r_mut)\n\u001b[0;32m     <a href='vscode-notebook-cell:/c%3A/Users/mateu/Desktop/algorytm%20genetyczny/gen.ipynb#X24sZmlsZQ%3D%3D?line=10'>11</a>\u001b[0m \t\u001b[39m# store for next generation\u001b[39;00m\n",
      "\u001b[1;31mNameError\u001b[0m: name 'r_cross' is not defined"
     ]
    }
   ],
   "source": [
    "...\n",
    "# stworzenie następnej generacji\n",
    "dzieci = list()\n",
    "for i in range(0, n_pop, 2):\n",
    "\t# połączenie wybranych rodziców w pary\n",
    "\tp1, p2 = wybrani[i], wybrani[i+1]\n",
    "\t# krzyżowanie i mutacja\n",
    "\tfor c in krzyzowanie(p1, p2, r_cross):\n",
    "\t\t# utacja\n",
    "\t\tmutacja(c, r_mut)\n",
    "\t\t# store for next generation\n",
    "\t\tdzieci.append(c)"
   ]
  },
  {
   "cell_type": "markdown",
   "metadata": {},
   "source": [
    "Możemy połączyć to wszystko w funkcję o nazwie Genetic_algorithm(), która pobiera nazwę funkcji celu oraz hiperparametry wyszukiwania i zwraca najlepsze rozwiązanie znalezione podczas wyszukiwania."
   ]
  },
  {
   "cell_type": "code",
   "execution_count": 28,
   "metadata": {},
   "outputs": [],
   "source": [
    "# genetic algorithm\n",
    "def algorytm_genetyczny(cel, n_bits, n_iter, n_pop, r_krzyz, r_mut):\n",
    "\t# initial population of random bitstring\n",
    "\tpop = [np.random.randint(0, 2, n_bits).tolist() for _ in range(n_pop)]\n",
    "\t# keep track of best solution\n",
    "\tbest, best_eval = 0, cel(pop[0])\n",
    "\t# enumerate generations\n",
    "\tfor gen in range(n_iter):\n",
    "\t\t# evaluate all candidates in the population\n",
    "\t\twyniki = [cel(c) for c in pop]\n",
    "\t\t# check for new best solution\n",
    "\t\tfor i in range(n_pop):\n",
    "\t\t\tif wyniki[i] < best_eval:\n",
    "\t\t\t\tbest, best_eval = pop[i], wyniki[i]\n",
    "\t\t\t\tprint(\">%d, new best f(%s) = %.3f\" % (gen,  pop[i], wyniki[i]))\n",
    "\t\t# select parents\n",
    "\t\twybrani = [selekcja(pop, wyniki) for _ in range(n_pop)]\n",
    "\t\t# create the next generation\n",
    "\t\tdzieci = list()\n",
    "\t\tfor i in range(0, n_pop, 2):\n",
    "\t\t\t# get selected parents in pairs\n",
    "\t\t\tp1, p2 = wybrani[i], wybrani[i+1]\n",
    "\t\t\t# crossover and mutation\n",
    "\t\t\tfor c in krzyzowanie(p1, p2, r_krzyz):\n",
    "\t\t\t\t# mutation\n",
    "\t\t\t\tmutacja(c, r_mut)\n",
    "\t\t\t\t# store for next generation\n",
    "\t\t\t\tdzieci.append(c)\n",
    "\t\t# replace population\n",
    "\t\tpop = dzieci\n",
    "\treturn [best, best_eval]\n",
    "\n"
   ]
  },
  {
   "cell_type": "code",
   "execution_count": 20,
   "metadata": {},
   "outputs": [
    {
     "ename": "NameError",
     "evalue": "name 'best' is not defined",
     "output_type": "error",
     "traceback": [
      "\u001b[1;31m---------------------------------------------------------------------------\u001b[0m",
      "\u001b[1;31mNameError\u001b[0m                                 Traceback (most recent call last)",
      "\u001b[1;32mc:\\Users\\mateu\\Desktop\\algorytm genetyczny\\gen.ipynb Cell 22\u001b[0m line \u001b[0;36m1\n\u001b[1;32m----> <a href='vscode-notebook-cell:/c%3A/Users/mateu/Desktop/algorytm%20genetyczny/gen.ipynb#X31sZmlsZQ%3D%3D?line=0'>1</a>\u001b[0m \u001b[39mprint\u001b[39m(best)\n",
      "\u001b[1;31mNameError\u001b[0m: name 'best' is not defined"
     ]
    }
   ],
   "source": [
    "print(best)"
   ]
  },
  {
   "cell_type": "code",
   "execution_count": 33,
   "metadata": {},
   "outputs": [
    {
     "name": "stdout",
     "output_type": "stream",
     "text": [
      ">1, new best f([1, 0, 1, 1, 1, 0, 1, 0, 1, 1]) = -7.000\n",
      ">1, new best f([1, 0, 1, 1, 1, 1, 0, 1, 1, 1]) = -8.000\n",
      ">2, new best f([1, 1, 1, 1, 1, 1, 1, 0, 1, 1]) = -9.000\n",
      ">4, new best f([1, 1, 1, 1, 1, 1, 1, 1, 1, 1]) = -10.000\n",
      "Najlepsze rozwiązanie: [1, 1, 1, 1, 1, 1, 1, 1, 1, 1]\n",
      "Wartość funkcji celu dla najlepszego rozwiązania: -10\n"
     ]
    }
   ],
   "source": [
    "\n",
    "# Funkcja celu - najprostsza funkcja celu\n",
    "def cel(x):\n",
    "    # Prosta funkcja celu - suma wszystkich bitów w ciągu\n",
    "    return -sum(x)\n",
    "\n",
    "# Funkcja selekcji - turniejowa selekcja\n",
    "def selekcja(pop, wyniki, k=3):\n",
    "    # Pierwszy losowy wybór\n",
    "    selekcja_ix = np.random.randint(len(pop))\n",
    "    for ix in [np.random.randint(0, len(pop)-1) for _ in range(k-1)]:\n",
    "        # Sprawdzanie, czy wybrany został lepszy\n",
    "        if wyniki[ix] < wyniki[selekcja_ix]:\n",
    "            selekcja_ix = ix\n",
    "    return pop[selekcja_ix]\n",
    "\n",
    "# Funkcja krzyżowania - jednopunktowe krzyżowanie\n",
    "def krzyzowanie(p1, p2, r_cross):\n",
    "    # Potomkowie domyślnie są kopią rodziców\n",
    "    c1, c2 = p1.copy(), p2.copy()\n",
    "    # Sprawdzanie w celu rekombinacji\n",
    "    if rand() < r_cross:\n",
    "        # Wybór punktu krzyżowania, który nie znajduje się na końcu ciągu\n",
    "        pt = np.random.randint(1, len(p1)-2)\n",
    "        # Wykonanie krzyżowania\n",
    "        c1 = p1[:pt] + p2[pt:]\n",
    "        c2 = p2[:pt] + p1[pt:]\n",
    "    return [c1, c2]\n",
    "\n",
    "# Operator mutacji\n",
    "def mutacja(bitstring, r_mut):\n",
    "    for i in range(len(bitstring)):\n",
    "        # Sprawdzanie w celu przeprowadzenia mutacji\n",
    "        if rand() < r_mut:\n",
    "            # Odwrócenie bitu\n",
    "            bitstring[i] = 1 - bitstring[i]\n",
    "\n",
    "# Algorytm genetyczny\n",
    "def algorytm_genetyczny(cel, n_bits, n_iter, n_pop, r_krzyz, r_mut):\n",
    "    # Początkowa populacja losowych ciągów bitów\n",
    "    pop = [np.random.randint(0, 2, n_bits).tolist() for _ in range(n_pop)]\n",
    "    # Śledzenie najlepszego rozwiązania\n",
    "    best, best_eval = 0, cel(pop[0])\n",
    "    # Przechodzenie przez generacje\n",
    "    for gen in range(n_iter):\n",
    "        # Ocena wszystkich kandydatów w populacji\n",
    "        wyniki = [cel(c) for c in pop]\n",
    "        # Sprawdzanie nowego najlepszego rozwiązania\n",
    "        for i in range(n_pop):\n",
    "            if wyniki[i] < best_eval:\n",
    "                best, best_eval = pop[i], wyniki[i]\n",
    "                print(\">%d, new best f(%s) = %.3f\" % (gen,  pop[i], wyniki[i]))\n",
    "        # Selekcja rodziców\n",
    "        wybrani = [selekcja(pop, wyniki) for _ in range(n_pop)]\n",
    "        # Tworzenie kolejnej generacji\n",
    "        dzieci = list()\n",
    "        for i in range(0, n_pop, 2):\n",
    "            # Pobieranie wybranych rodziców parami\n",
    "            p1, p2 = wybrani[i], wybrani[i+1]\n",
    "            # Krzyżowanie i mutacja\n",
    "            for c in krzyzowanie(p1, p2, r_krzyz):\n",
    "                # Mutacja\n",
    "                mutacja(c, r_mut)\n",
    "                # Przechowywanie dla następnej generacji\n",
    "                dzieci.append(c)\n",
    "        # Zastępowanie populacji\n",
    "        pop = dzieci\n",
    "    return [best, best_eval]\n",
    "\n",
    "# Przykładowe wywołanie funkcji algorytmu genetycznego\n",
    "n_bits = 10\n",
    "n_iter = 50\n",
    "n_pop = 20\n",
    "r_krzyz = 0.7\n",
    "r_mut = 1.0 / float(n_bits)\n",
    "\n",
    "wynik = algorytm_genetyczny(cel, n_bits, n_iter, n_pop, r_krzyz, r_mut)\n",
    "print(\"Najlepsze rozwiązanie:\", wynik[0])\n",
    "print(\"Wartość funkcji celu dla najlepszego rozwiązania:\", wynik[1])\n"
   ]
  },
  {
   "cell_type": "markdown",
   "metadata": {},
   "source": [
    "OneMax"
   ]
  },
  {
   "cell_type": "code",
   "execution_count": 35,
   "metadata": {},
   "outputs": [],
   "source": [
    "# objective function\n",
    "def onemax(x):\n",
    "\treturn -sum(x)"
   ]
  },
  {
   "cell_type": "code",
   "execution_count": 36,
   "metadata": {},
   "outputs": [],
   "source": [
    "...\n",
    "# define the total iterations\n",
    "n_iter = 100\n",
    "# bits\n",
    "n_bits = 20\n",
    "# define the population size\n",
    "n_pop = 100\n",
    "# crossover rate\n",
    "r_cross = 0.9\n",
    "# mutation rate\n",
    "r_mut = 1.0 / float(n_bits)"
   ]
  },
  {
   "cell_type": "code",
   "execution_count": 48,
   "metadata": {},
   "outputs": [
    {
     "name": "stdout",
     "output_type": "stream",
     "text": [
      ">0, new best f([0, 0, 0, 1, 0, 1, 1, 0, 0, 1, 1, 0, 1, 1, 1, 1, 1, 0, 1, 1]) = -12.000\n",
      ">0, new best f([1, 0, 0, 1, 0, 1, 1, 1, 0, 1, 0, 1, 1, 0, 0, 1, 1, 1, 1, 1]) = -13.000\n",
      ">0, new best f([1, 0, 0, 1, 1, 1, 1, 1, 1, 1, 1, 1, 0, 0, 1, 0, 1, 0, 1, 1]) = -14.000\n",
      ">1, new best f([1, 1, 1, 1, 1, 0, 0, 0, 0, 1, 1, 0, 1, 1, 1, 1, 1, 1, 1, 1]) = -15.000\n",
      ">1, new best f([1, 1, 1, 0, 1, 1, 1, 0, 1, 1, 1, 1, 1, 0, 1, 1, 1, 1, 1, 1]) = -17.000\n",
      ">3, new best f([1, 1, 1, 1, 1, 1, 1, 0, 1, 1, 1, 1, 1, 0, 1, 1, 1, 1, 1, 1]) = -18.000\n",
      ">6, new best f([1, 1, 1, 1, 1, 0, 1, 1, 1, 1, 1, 1, 1, 1, 1, 1, 1, 1, 1, 1]) = -19.000\n",
      ">8, new best f([1, 1, 1, 1, 1, 1, 1, 1, 1, 1, 1, 1, 1, 1, 1, 1, 1, 1, 1, 1]) = -20.000\n",
      "Done!\n",
      "f([1, 1, 1, 1, 1, 1, 1, 1, 1, 1, 1, 1, 1, 1, 1, 1, 1, 1, 1, 1]) = -20.000000\n"
     ]
    }
   ],
   "source": [
    "...\n",
    "# perform the genetic algorithm search\n",
    "best, score = algorytm_genetyczny(onemax, n_bits, n_iter, n_pop, r_cross, r_mut)\n",
    "print('Done!')\n",
    "print('f(%s) = %f' % (best, score))"
   ]
  },
  {
   "cell_type": "markdown",
   "metadata": {},
   "source": [
    "Continous Function Optimization"
   ]
  },
  {
   "cell_type": "code",
   "execution_count": 49,
   "metadata": {},
   "outputs": [],
   "source": [
    "# objective function\n",
    "def objective(x):\n",
    "\treturn x[0]**2.0 + x[1]**2.0"
   ]
  },
  {
   "cell_type": "code",
   "execution_count": 50,
   "metadata": {},
   "outputs": [],
   "source": [
    "...\n",
    "# define range for input\n",
    "bounds = [[-5.0, 5.0], [-5.0, 5.0]]"
   ]
  },
  {
   "cell_type": "code",
   "execution_count": 58,
   "metadata": {},
   "outputs": [],
   "source": [
    "...\n",
    "# define the total iterations\n",
    "n_iter = 100\n",
    "# bits per variable\n",
    "n_bits = 16\n",
    "# define the population size\n",
    "n_pop = 100\n",
    "# crossover rate\n",
    "r_cross = 0.9"
   ]
  },
  {
   "cell_type": "code",
   "execution_count": 52,
   "metadata": {},
   "outputs": [],
   "source": [
    "...\n",
    "# mutation rate\n",
    "r_mut = 1.0 / (float(n_bits) * len(bounds))"
   ]
  },
  {
   "cell_type": "code",
   "execution_count": 53,
   "metadata": {},
   "outputs": [],
   "source": [
    "...\n",
    "# initial population of random bitstring\n",
    "pop = [randint(0, 2, n_bits*len(bounds)).tolist() for _ in range(n_pop)]"
   ]
  },
  {
   "cell_type": "code",
   "execution_count": 54,
   "metadata": {},
   "outputs": [],
   "source": [
    "# decode bitstring to numbers\n",
    "def decode(bounds, n_bits, bitstring):\n",
    "\tdecoded = list()\n",
    "\tlargest = 2**n_bits\n",
    "\tfor i in range(len(bounds)):\n",
    "\t\t# extract the substring\n",
    "\t\tstart, end = i * n_bits, (i * n_bits)+n_bits\n",
    "\t\tsubstring = bitstring[start:end]\n",
    "\t\t# convert bitstring to a string of chars\n",
    "\t\tchars = ''.join([str(s) for s in substring])\n",
    "\t\t# convert string to integer\n",
    "\t\tinteger = int(chars, 2)\n",
    "\t\t# scale integer to desired range\n",
    "\t\tvalue = bounds[i][0] + (integer/largest) * (bounds[i][1] - bounds[i][0])\n",
    "\t\t# store\n",
    "\t\tdecoded.append(value)\n",
    "\treturn decoded"
   ]
  },
  {
   "cell_type": "code",
   "execution_count": 55,
   "metadata": {},
   "outputs": [],
   "source": [
    "...\n",
    "# decode population\n",
    "decoded = [decode(bounds, n_bits, p) for p in pop]\n",
    "# evaluate all candidates in the population\n",
    "scores = [objective(d) for d in decoded]"
   ]
  },
  {
   "cell_type": "code",
   "execution_count": null,
   "metadata": {},
   "outputs": [],
   "source": [
    "# perform the genetic algorithm search\n",
    "best, score = genetic_algorithm(objective, bounds, n_bits, n_iter, n_pop, r_cross, r_mut)\n",
    "print('Done!')\n",
    "decoded = decode(bounds, n_bits, best)\n",
    "print('f(%s) = %f' % (decoded, score))"
   ]
  }
 ],
 "metadata": {
  "kernelspec": {
   "display_name": "Python 3",
   "language": "python",
   "name": "python3"
  },
  "language_info": {
   "codemirror_mode": {
    "name": "ipython",
    "version": 3
   },
   "file_extension": ".py",
   "mimetype": "text/x-python",
   "name": "python",
   "nbconvert_exporter": "python",
   "pygments_lexer": "ipython3",
   "version": "3.12.0"
  }
 },
 "nbformat": 4,
 "nbformat_minor": 2
}
