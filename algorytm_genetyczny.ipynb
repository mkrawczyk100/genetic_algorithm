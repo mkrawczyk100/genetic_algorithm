{
 "cells": [
  {
   "cell_type": "markdown",
   "metadata": {},
   "source": [
    "# Kroki algorytmu genetycznego"
   ]
  },
  {
   "cell_type": "markdown",
   "metadata": {},
   "source": [
    "Pierwszym krokiem jest stworzenie populacji losowych ciągów bitowych. Możemy użyc wartości logicznych \"True\" i \"False\", wartości string '0' i '1' lub wartości int 0 i 1. W tym przykładzie, wykorzystamy wartości liczbowe.\n",
    "\n",
    "Możemy wygenerować tablicę wartości całkowitych w zadanym zakresie za pomocą funkcji randint() a następnie określić zakres jako wartości zaczynąjące się od 0 a kończące na 2. Naszymi wynikami bedą zera i jedynki. Aby przedstawić przykład w jak najprostszy sposób, proponowane rozwiązanie zaprezentuję jako listę zamiast tablicy NumPy.\n",
    "\n",
    "Poniżej prezentuję przykład utworzenia początkowej populacji losowej ciągu bitów. 'n_pop' jest hiperparametrem kontrolującym wielkość populacji, a 'n_bits' jest hiperparametrem definiującym liczbę bitów w pojedynczym rozwiązaniu."
   ]
  },
  {
   "cell_type": "code",
   "execution_count": 1,
   "metadata": {},
   "outputs": [],
   "source": [
    "# Wczytywanie używanej biblioteki\n",
    "from numpy.random import randint\n",
    "from numpy.random import rand"
   ]
  },
  {
   "cell_type": "code",
   "execution_count": 2,
   "metadata": {},
   "outputs": [
    {
     "name": "stdout",
     "output_type": "stream",
     "text": [
      "[[1, 0, 0, 0, 0], [0, 0, 1, 0, 1]]\n"
     ]
    }
   ],
   "source": [
    "# Przykładowy kod tworzący populacje losowych ciągów bitowych\n",
    "n_bits= 5\n",
    "n_pop = 2\n",
    "pop = [randint(0, 2, n_bits).tolist() for _ in range(n_pop)]\n",
    "print(pop)"
   ]
  },
  {
   "cell_type": "markdown",
   "metadata": {},
   "source": [
    "Następnie możemy wyliczyć stałą liczbę iteracji algorytmu, w tym przypadku za tą stałą będzie odpowiedzialny hiperparametr o nazwie 'n_iter'"
   ]
  },
  {
   "cell_type": "code",
   "execution_count": null,
   "metadata": {},
   "outputs": [],
   "source": [
    "# Kod w celu demonstracji- nie uruchamiać\n",
    "# Do wyliczenia stałej liczby iteracji użyjemy pętli for (przykład)\n",
    " for gen in range(n_iter):"
   ]
  },
  {
   "cell_type": "markdown",
   "metadata": {},
   "source": [
    "Pierwszym krokiem w jednej iteracji algorytmu jest ocena wszystkich potencjalnych rozwiązań.\n",
    "\n",
    "Użyjemy funkcji o nazwie cel() jako ogólnej funkcji celu i wywołamy ją, aby uzyskać wynik wartości funkcji, który zminimalizujemy.\n"
   ]
  },
  {
   "cell_type": "code",
   "execution_count": null,
   "metadata": {},
   "outputs": [],
   "source": [
    "# Kod w celu demonstracji- nie uruchamiać\n",
    "#ocena wszystkich kandydatów w populacji\n",
    "wyniki = [cel(c) for c in pop]"
   ]
  },
  {
   "cell_type": "markdown",
   "metadata": {},
   "source": [
    "Następnie możemy wybrać rodziców, którzy zostaną wykorzystani do reprodukcji."
   ]
  },
  {
   "cell_type": "markdown",
   "metadata": {},
   "source": [
    "Procedurę selekcji można zaimplementować jako funkcję, która pobiera populację i zwraca jednego wybranego rodzica. Wartość k jest ustalona na 3 z domyślnym argumentem."
   ]
  },
  {
   "cell_type": "code",
   "execution_count": 3,
   "metadata": {},
   "outputs": [],
   "source": [
    "# selekcja\n",
    "def selekcja(pop, wyniki, k=3):\n",
    "\t# pierwszy losowy wybór\n",
    "\tselekcja_ix = randint(len(pop))\n",
    "\tfor ix in randint(0, len(pop), k-1):\n",
    "\t\t# sprawdzanie czy wybrany został lepszy \n",
    "\t\tif wyniki[ix] < wyniki[selekcja_ix]:\n",
    "\t\t\tselekcja_ix = ix\n",
    "\treturn pop[selekcja_ix]"
   ]
  },
  {
   "cell_type": "markdown",
   "metadata": {},
   "source": [
    "Możemy wywołać tę funkcję jeden raz dla każdej pozycji w populacji, aby utworzyć listę rodziców."
   ]
  },
  {
   "cell_type": "code",
   "execution_count": null,
   "metadata": {},
   "outputs": [],
   "source": [
    "# Kod w celu demonstracji- nie uruchamiać\n",
    "# wybór rodziców\n",
    "wybrani = [selekcja(pop, wyniki) for _ in range(n_pop)]"
   ]
  },
  {
   "cell_type": "markdown",
   "metadata": {},
   "source": [
    "Teraz możemy stworzyć kolejną generację"
   ]
  },
  {
   "cell_type": "markdown",
   "metadata": {},
   "source": [
    "Stworzenie kolejnej generacji najpierw wymaga funkcji do wykonania krzyżowania. Ta funkcja będzie uwzględniać dwoje rodziców i współczynnik krzyżowania. Współczynnik krzyżowania to hiperparametr określający, czy krzyżowanie jest wykonywane, czy nie, a jeśli nie, elementy nadrzędne są kopiowane do następnej generacji. Ten parametr to współczynnik prawdopodobieństwa i zazwyczaj ma dużą wartość bliską 1,0."
   ]
  },
  {
   "cell_type": "markdown",
   "metadata": {},
   "source": [
    "Poniższa funkcja krzyzowanie() implementuje krzyżowanie poprzez losowanie liczby z zakresu [0,1] w celu ustalenia, czy krzyżowanie jest wykonywane, a następnie wybiera prawidłowy punkt podziału, jeśli ma zostać przeprowadzone krzyżowanie."
   ]
  },
  {
   "cell_type": "code",
   "execution_count": 4,
   "metadata": {},
   "outputs": [],
   "source": [
    "# krzyżowanie dwóch rodziców w celu wygenerowania dwojga potomków\n",
    "def krzyzowanie(p1, p2, r_cross):\n",
    "    # potomkowie domyślnie są kopią rodziców\n",
    "\tc1, c2 = p1.copy(), p2.copy()\n",
    "\t# sprawdzanie w celu rekombinacji\n",
    "\tif rand() < r_cross:\n",
    "        # wybór punktu krzyżowania, który nie znajduje się na końcu ciągu\n",
    "\t\tpt = randint(1, len(p1)-2)\n",
    "\t\t# wykonanie krzyżowania\n",
    "\t\tc1 = p1[:pt] + p2[pt:]\n",
    "\t\tc2 = p2[:pt] + p1[pt:]\n",
    "\treturn [c1, c2]"
   ]
  },
  {
   "cell_type": "markdown",
   "metadata": {},
   "source": [
    "Potrzebujemy również funkcji do przeprowadzenia mutacji.\n",
    "\n",
    "Ta procedura po prostu odwraca bity z niskim prawdopodobieństwem kontrolowanym przez hiperparametr „r_mut”."
   ]
  },
  {
   "cell_type": "code",
   "execution_count": 5,
   "metadata": {},
   "outputs": [],
   "source": [
    "# operator mutacji\n",
    "def mutacja(bitstring, r_mut):\n",
    "\tfor i in range(len(bitstring)):\n",
    "\t\t# sprawdzanie w celu przeprowadzenie mutacji\n",
    "\t\tif rand() < r_mut:\n",
    "\t\t\t# odwrócenie bitu\n",
    "\t\t\tbitstring[i] = 1 - bitstring[i]"
   ]
  },
  {
   "cell_type": "markdown",
   "metadata": {},
   "source": [
    "Aby utworzyć listę dzieci, które zostaną wykorzystane jako następne pokolenie, możemy zapętlić program przez listę rodziców, wywołując w razie potrzeby funkcje krzyżowania i mutacji"
   ]
  },
  {
   "cell_type": "code",
   "execution_count": null,
   "metadata": {},
   "outputs": [],
   "source": [
    "# Kod w celu demonstracji- nie uruchamiać\n",
    "# stworzenie następnej generacji\n",
    "dzieci = list()\n",
    "for i in range(0, n_pop, 2):\n",
    "\t# połączenie wybranych rodziców w pary\n",
    "\tp1, p2 = wybrani[i], wybrani[i+1]\n",
    "\t# krzyżowanie i mutacja\n",
    "\tfor c in krzyzowanie(p1, p2, r_cross):\n",
    "\t\t# mutacja\n",
    "\t\tmutacja(c, r_mut)\n",
    "\t\t# zapisz dla następnej generacji\n",
    "\t\tdzieci.append(c)"
   ]
  },
  {
   "cell_type": "markdown",
   "metadata": {},
   "source": [
    "Możemy połączyć to wszystko w funkcję o nazwie algorytm_genetyczny(), która pobiera nazwę funkcji celu oraz hiperparametry i zwraca najlepsze rozwiązanie znalezione podczas wyszukiwania."
   ]
  },
  {
   "cell_type": "code",
   "execution_count": 6,
   "metadata": {},
   "outputs": [],
   "source": [
    "# algorytm genetyczny\n",
    "def algorytm_genetyczny(cel, n_bits, n_iter, n_pop, r_krzyz, r_mut):\n",
    "\t# początkowa populacja losowego ciągu bitowego\n",
    "\tpop = [randint(0, 2, n_bits).tolist() for _ in range(n_pop)]\n",
    "\t# śledzenie najlepszego rozwiązania\n",
    "\tbest, best_eval = 0, cel(pop[0])\n",
    "\t# wyliczanie pokoleń\n",
    "\tfor gen in range(n_iter):\n",
    "\t\t# ocena wszystkich kandydatów w populacji\n",
    "\t\twyniki = [cel(c) for c in pop]\n",
    "\t\t# sprawdzenie nowych najlepszych rozwiązań\n",
    "\t\tfor i in range(n_pop):\n",
    "\t\t\tif wyniki[i] < best_eval:\n",
    "\t\t\t\tbest, best_eval = pop[i], wyniki[i]\n",
    "\t\t\t\tprint(\">%d, nowe najlepsze rozwiązanie f(%s) = %.3f\" % (gen,  pop[i], wyniki[i]))\n",
    "\t\t# wybór rodziców\n",
    "\t\twybrani = [selekcja(pop, wyniki) for _ in range(n_pop)]\n",
    "\t\t# stworzenie nowej generacji\n",
    "\t\tdzieci = list()\n",
    "\t\tfor i in range(0, n_pop, 2):\n",
    "\t\t\t# połączenie wybranych rodziców w pary\n",
    "\t\t\tp1, p2 = wybrani[i], wybrani[i+1]\n",
    "\t\t\t# krzyżowanie i mutacja\n",
    "\t\t\tfor c in krzyzowanie(p1, p2, r_krzyz):\n",
    "\t\t\t\tmutacja(c, r_mut)\n",
    "\t\t\t\t# przechowywanie wyników dla następnego pokolenia\n",
    "\t\t\t\tdzieci.append(c)\n",
    "\t\t# zastąpienie populacji\n",
    "\t\tpop = dzieci\n",
    "\treturn [best, best_eval]\n",
    "\n"
   ]
  },
  {
   "cell_type": "markdown",
   "metadata": {},
   "source": [
    "# Przykład 1: OneMax problem"
   ]
  },
  {
   "cell_type": "markdown",
   "metadata": {},
   "source": [
    "W tej sekcji zastosujemy algorytm genetyczny do problemu optymalizacji opartego na ciągach binarnych."
   ]
  },
  {
   "cell_type": "markdown",
   "metadata": {},
   "source": [
    "Problem nazywa się OneMax i ocenia ciąg binarny na podstawie liczby jedynek w ciągu. Na przykład ciąg bitów o długości 20 bitów będzie miał wynik 20 dla ciągu składającego się wyłącznie z jedynek."
   ]
  },
  {
   "cell_type": "markdown",
   "metadata": {},
   "source": [
    "Biorąc pod uwagę, że zaimplementowaliśmy algorytm genetyczny w celu zminimalizowania funkcji celu, możemy dodać znak ujemny do tej oceny, tak że duże wartości dodatnie staną się dużymi wartościami ujemnymi."
   ]
  },
  {
   "cell_type": "markdown",
   "metadata": {},
   "source": [
    "Poniższa funkcja onemax() jako dane wejściowe pobiera ciąg bitów wartości całkowitych i zwraca ujemną sumę wartości."
   ]
  },
  {
   "cell_type": "code",
   "execution_count": 7,
   "metadata": {},
   "outputs": [],
   "source": [
    "# funkcja celu\n",
    "def onemax(x):\n",
    "\treturn -sum(x)"
   ]
  },
  {
   "cell_type": "markdown",
   "metadata": {},
   "source": [
    "Następnie możemy skonfigurować wyszukiwanie."
   ]
  },
  {
   "cell_type": "markdown",
   "metadata": {},
   "source": [
    "Wyszukiwanie będzie trwało 100 iteracji, a w naszych kandydujących rozwiązaniach użyjemy 20 bitów, co oznacza, że optymalna zgodność wyniesie -20,0."
   ]
  },
  {
   "cell_type": "markdown",
   "metadata": {},
   "source": [
    "Wielkość populacji wyniesie 100, a my zastosujemy współczynnik krzyżowania wynoszący 90 procent i współczynnik mutacji wynoszący 5 procent. Ta konfiguracja została wybrana metodą prób i błędów."
   ]
  },
  {
   "cell_type": "code",
   "execution_count": 8,
   "metadata": {},
   "outputs": [],
   "source": [
    "# ilość iteracji\n",
    "n_iter = 100\n",
    "# ilość bitów\n",
    "n_bits = 20\n",
    "# wielkość populacji\n",
    "n_pop = 100\n",
    "# współczynnik krzyżowania\n",
    "r_cross = 0.9\n",
    "# współczynnik mutacji\n",
    "r_mut = 1.0 / float(n_bits)"
   ]
  },
  {
   "cell_type": "markdown",
   "metadata": {},
   "source": [
    "Następnie można wywołać wyszukiwanie i znaleźć najlepszy wynik."
   ]
  },
  {
   "cell_type": "code",
   "execution_count": 9,
   "metadata": {},
   "outputs": [
    {
     "name": "stdout",
     "output_type": "stream",
     "text": [
      ">0, nowe najlepsze rozwiązanie f([1, 1, 0, 0, 1, 1, 0, 1, 0, 0, 1, 0, 1, 0, 1, 1, 1, 0, 0, 0]) = -10.000\n",
      ">0, nowe najlepsze rozwiązanie f([0, 0, 1, 0, 1, 1, 0, 1, 0, 1, 1, 1, 0, 1, 1, 1, 0, 0, 1, 0]) = -11.000\n",
      ">0, nowe najlepsze rozwiązanie f([1, 0, 1, 1, 0, 0, 0, 1, 1, 0, 0, 1, 1, 1, 1, 1, 1, 0, 0, 1]) = -12.000\n",
      ">0, nowe najlepsze rozwiązanie f([0, 1, 1, 1, 0, 1, 1, 1, 1, 1, 0, 1, 0, 1, 1, 1, 1, 1, 1, 1]) = -16.000\n",
      ">1, nowe najlepsze rozwiązanie f([1, 1, 1, 1, 0, 1, 1, 1, 1, 0, 0, 1, 1, 1, 1, 1, 1, 1, 1, 1]) = -17.000\n",
      ">3, nowe najlepsze rozwiązanie f([1, 0, 1, 1, 1, 1, 1, 1, 1, 1, 1, 1, 0, 1, 1, 1, 1, 1, 1, 1]) = -18.000\n",
      ">6, nowe najlepsze rozwiązanie f([1, 1, 1, 1, 1, 1, 1, 1, 1, 1, 1, 1, 0, 1, 1, 1, 1, 1, 1, 1]) = -19.000\n",
      ">7, nowe najlepsze rozwiązanie f([1, 1, 1, 1, 1, 1, 1, 1, 1, 1, 1, 1, 1, 1, 1, 1, 1, 1, 1, 1]) = -20.000\n",
      "Znaleziono najlepsze rozwiązanie!\n",
      "f([1, 1, 1, 1, 1, 1, 1, 1, 1, 1, 1, 1, 1, 1, 1, 1, 1, 1, 1, 1]) = -20.000000\n"
     ]
    }
   ],
   "source": [
    "\n",
    "# przeprowadzenie wyszukiwania algorytmu genetycznego\n",
    "best, score = algorytm_genetyczny(onemax, n_bits, n_iter, n_pop, r_cross, r_mut)\n",
    "print('Znaleziono najlepsze rozwiązanie!')\n",
    "print('f(%s) = %f' % (best, score))"
   ]
  },
  {
   "cell_type": "markdown",
   "metadata": {},
   "source": [
    "Uruchomienie przykładu spowoduje wyświetlenie najlepszego wyniku znalezionego po drodze, a następnie ostatecznego najlepszego rozwiązania na końcu wyszukiwania, które będzie rozwiązaniem optymalnym."
   ]
  },
  {
   "cell_type": "markdown",
   "metadata": {},
   "source": [
    "# Przykład 2: Continuous Function Optimization "
   ]
  },
  {
   "cell_type": "markdown",
   "metadata": {},
   "source": [
    "Implementacja algorytmu genetycznego (AG) do optymalizacji funkcji ciągłej.\n",
    "\n",
    "Celem algorytmu genetycznego będzie znalezienie takich wartości zmiennych x, dla których funkcja celu przyjmuje możliwie najniższą wartość, co odpowiada minimalizacji tej funkcji. Funkcja celu ma wartosci optymalne przy f(0, 0) = 0,0."
   ]
  },
  {
   "cell_type": "code",
   "execution_count": 10,
   "metadata": {},
   "outputs": [],
   "source": [
    "# funkcja celu\n",
    "def cel(x):\n",
    "\treturn x[0]**2.0 + x[1]**2.0"
   ]
  },
  {
   "cell_type": "markdown",
   "metadata": {},
   "source": [
    "Chcąc przeprowadzić optymalizację za pomocą algorytmu genetycznego, najpierw musimy zdefiniować granice każdej zmiennej wejściowej. Ten fragment kodu definiuje zakresy dla zmiennych decyzyjnych, czyli przedziały, w których algorytm będzie przeszukiwał wartości zmiennych. W tym konkretnym przypadku granice są ustawione dla dwóch zmiennych decyzyjnych, z zakresem od -5 do 5.\n"
   ]
  },
  {
   "cell_type": "code",
   "execution_count": 11,
   "metadata": {},
   "outputs": [],
   "source": [
    "# zakres\n",
    "granice = [[-5.0, 5.0], [-5.0, 5.0]]"
   ]
  },
  {
   "cell_type": "markdown",
   "metadata": {},
   "source": [
    "Przyjmiemy n_bits jako liczbę bitów na jedną zmienną wejściową do funkcji celu i ustawimy ją na 16 bitów. Zwiększenie liczby bitów może poprawić zdolność algorytmu genetycznego do dokładniejszego przeszukiwania przestrzeni poszukiwań, ale może też zwiększyć złożoność obliczeniową."
   ]
  },
  {
   "cell_type": "code",
   "execution_count": 12,
   "metadata": {},
   "outputs": [],
   "source": [
    "# liczba bitów na zmienną\n",
    "n_bits = 16"
   ]
  },
  {
   "cell_type": "markdown",
   "metadata": {},
   "source": [
    "Oznacza to, że nasz rzeczywisty ciąg bitów będzie miał (16 * 2) = 32 bity, biorąc pod uwagę dwie zmienne wejściowe.\n",
    "\n",
    "Musimy odpowiednio zaktualizować nasz współczynnik mutacji, czyli prawdopodobieństwo, że pojedynczy bit w genotypie zostanie odwrócony (zmutowany). "
   ]
  },
  {
   "cell_type": "code",
   "execution_count": 13,
   "metadata": {},
   "outputs": [],
   "source": [
    "# współczynnik mutacji\n",
    "r_mut = 1.0 / (float(n_bits) * len(granice))"
   ]
  },
  {
   "cell_type": "markdown",
   "metadata": {},
   "source": [
    "Następnie musimy się upewnić, że początkowa populacja tworzy losowe ciągi bitów, które są wystarczająco duże. Ta początkowa populacja genotypów jest wykorzystywana jako punkt wyjścia dla algorytmu genetycznego. W miarę kolejnych iteracji algorytmu, genotypy w populacji będą ewoluować poprzez operacje selekcji, krzyżowania i mutacji w kierunku lepszych rozwiązań."
   ]
  },
  {
   "cell_type": "code",
   "execution_count": 14,
   "metadata": {
    "is_executing": true
   },
   "outputs": [
    {
     "name": "stdout",
     "output_type": "stream",
     "text": [
      "[[0, 1, 1, 1, 0, 0, 0, 1, 1, 0, 1, 1, 0, 1, 0, 0, 1, 0, 1, 1, 1, 0, 1, 1, 1, 0, 0, 0, 1, 1, 1, 0], [0, 1, 1, 1, 0, 0, 0, 0, 0, 0, 1, 1, 0, 0, 1, 0, 1, 0, 1, 1, 0, 0, 0, 0, 1, 0, 1, 1, 0, 0, 1, 0], [0, 1, 0, 0, 1, 0, 1, 1, 0, 1, 0, 1, 0, 0, 0, 1, 1, 0, 1, 0, 1, 0, 0, 1, 1, 1, 1, 1, 1, 0, 1, 0], [1, 0, 0, 0, 0, 1, 1, 0, 0, 1, 0, 1, 1, 0, 0, 1, 0, 0, 0, 0, 1, 1, 0, 0, 1, 1, 0, 0, 1, 1, 0, 0], [1, 0, 1, 0, 0, 1, 1, 0, 1, 0, 0, 0, 0, 1, 0, 0, 1, 0, 1, 1, 0, 1, 1, 0, 1, 1, 0, 1, 1, 0, 0, 0], [1, 1, 1, 1, 1, 1, 1, 0, 0, 1, 1, 0, 0, 1, 0, 0, 1, 0, 0, 0, 0, 0, 1, 0, 0, 0, 0, 0, 0, 0, 1, 0], [1, 1, 0, 1, 1, 1, 0, 0, 1, 0, 0, 1, 1, 0, 0, 0, 0, 0, 1, 0, 1, 1, 1, 1, 0, 1, 1, 0, 1, 0, 1, 1], [0, 0, 0, 0, 1, 1, 0, 1, 0, 0, 0, 1, 0, 1, 1, 1, 1, 1, 1, 1, 0, 1, 1, 0, 0, 1, 1, 1, 1, 1, 0, 0], [0, 1, 0, 0, 1, 1, 1, 1, 1, 0, 1, 1, 0, 1, 1, 0, 1, 0, 1, 1, 0, 0, 1, 1, 1, 1, 1, 0, 0, 0, 0, 0], [0, 1, 1, 1, 0, 0, 1, 0, 1, 1, 1, 1, 0, 1, 1, 0, 1, 0, 0, 1, 1, 1, 0, 1, 1, 1, 1, 1, 1, 0, 0, 0], [1, 1, 0, 1, 1, 0, 1, 0, 1, 0, 0, 0, 1, 0, 1, 0, 0, 0, 1, 1, 1, 1, 0, 1, 1, 0, 0, 0, 0, 1, 1, 0], [1, 1, 0, 0, 0, 0, 1, 0, 0, 0, 1, 1, 1, 1, 1, 1, 0, 0, 1, 1, 0, 0, 1, 0, 1, 0, 1, 1, 1, 1, 1, 0], [0, 1, 1, 1, 1, 1, 1, 0, 1, 1, 0, 1, 0, 1, 1, 0, 0, 1, 1, 0, 1, 1, 1, 0, 0, 1, 0, 0, 1, 1, 1, 0], [1, 0, 0, 1, 0, 1, 1, 1, 0, 0, 0, 1, 0, 1, 1, 1, 1, 1, 0, 0, 0, 1, 0, 1, 0, 0, 0, 1, 0, 0, 1, 0], [1, 0, 0, 0, 1, 1, 1, 0, 0, 0, 1, 1, 1, 1, 1, 0, 1, 1, 1, 0, 0, 0, 0, 0, 0, 1, 0, 1, 0, 1, 1, 0], [1, 1, 1, 1, 1, 0, 1, 0, 0, 1, 0, 1, 0, 1, 1, 0, 1, 0, 0, 0, 0, 0, 0, 0, 1, 0, 0, 0, 1, 1, 1, 0], [1, 1, 0, 1, 1, 1, 0, 1, 1, 1, 0, 1, 0, 0, 0, 1, 0, 0, 1, 0, 0, 0, 1, 1, 0, 0, 0, 0, 0, 0, 0, 0], [0, 0, 1, 1, 1, 0, 0, 1, 0, 1, 1, 1, 1, 1, 0, 0, 0, 1, 0, 1, 1, 1, 1, 0, 1, 1, 0, 0, 0, 0, 1, 1], [0, 0, 1, 0, 1, 1, 0, 0, 1, 1, 1, 0, 0, 0, 0, 0, 1, 1, 1, 1, 1, 1, 1, 1, 1, 1, 1, 1, 0, 1, 0, 0], [0, 1, 0, 1, 1, 1, 1, 0, 1, 0, 0, 1, 0, 0, 1, 0, 1, 0, 0, 1, 1, 1, 1, 0, 1, 0, 1, 1, 1, 1, 0, 1], [0, 0, 1, 0, 1, 1, 0, 0, 0, 1, 0, 1, 0, 1, 0, 0, 0, 0, 1, 1, 0, 0, 1, 0, 0, 1, 0, 0, 1, 1, 1, 1], [0, 1, 0, 1, 0, 1, 1, 1, 0, 1, 0, 1, 1, 0, 1, 0, 1, 1, 0, 0, 0, 0, 0, 0, 0, 1, 0, 0, 0, 1, 0, 0], [0, 0, 1, 0, 1, 1, 1, 1, 0, 1, 1, 0, 1, 0, 1, 0, 1, 0, 0, 1, 1, 0, 1, 1, 0, 0, 1, 1, 1, 1, 0, 1], [1, 1, 1, 1, 0, 1, 1, 0, 1, 1, 1, 0, 0, 1, 1, 0, 0, 0, 0, 1, 0, 1, 1, 1, 1, 0, 1, 0, 0, 1, 0, 0], [1, 0, 0, 0, 1, 0, 1, 0, 1, 0, 1, 0, 0, 1, 1, 1, 0, 1, 0, 0, 1, 1, 1, 1, 0, 0, 0, 0, 1, 0, 1, 1], [0, 0, 0, 0, 1, 1, 1, 1, 1, 1, 0, 1, 1, 1, 1, 0, 0, 1, 0, 1, 1, 0, 1, 1, 0, 0, 1, 1, 0, 1, 0, 1], [0, 0, 0, 0, 0, 1, 0, 1, 0, 0, 1, 0, 0, 1, 0, 1, 0, 0, 1, 0, 1, 0, 0, 1, 0, 0, 1, 1, 0, 1, 0, 1], [0, 0, 1, 0, 0, 1, 1, 0, 1, 0, 0, 0, 0, 1, 0, 0, 1, 0, 0, 1, 0, 0, 1, 0, 0, 1, 1, 0, 0, 0, 0, 1], [1, 0, 1, 0, 0, 1, 1, 1, 0, 0, 1, 1, 1, 1, 0, 0, 0, 1, 0, 1, 1, 1, 1, 1, 0, 1, 1, 1, 0, 1, 0, 0], [0, 1, 1, 1, 1, 0, 1, 0, 1, 1, 0, 1, 1, 0, 0, 1, 0, 0, 0, 0, 0, 1, 0, 0, 0, 0, 0, 1, 1, 1, 0, 0], [1, 0, 0, 0, 0, 1, 1, 1, 1, 0, 0, 1, 0, 0, 0, 1, 0, 0, 1, 0, 1, 1, 1, 0, 1, 1, 0, 0, 1, 0, 0, 0], [0, 0, 0, 0, 1, 0, 0, 0, 0, 1, 1, 0, 0, 0, 1, 0, 1, 1, 1, 1, 1, 1, 0, 1, 1, 0, 0, 0, 0, 0, 1, 0], [0, 1, 0, 0, 1, 0, 1, 1, 0, 0, 0, 0, 1, 0, 0, 0, 1, 1, 0, 1, 0, 0, 1, 0, 1, 1, 1, 0, 0, 0, 0, 1], [1, 0, 1, 0, 1, 0, 0, 1, 0, 0, 0, 1, 1, 0, 0, 1, 1, 1, 0, 0, 0, 1, 1, 1, 1, 0, 0, 0, 1, 1, 1, 1], [0, 1, 1, 0, 0, 1, 1, 0, 0, 1, 0, 1, 1, 1, 1, 1, 1, 1, 1, 0, 0, 0, 0, 0, 1, 0, 1, 1, 0, 1, 1, 0], [1, 1, 0, 1, 1, 0, 1, 0, 1, 0, 1, 1, 0, 0, 1, 0, 1, 0, 1, 1, 0, 0, 0, 1, 0, 1, 1, 0, 0, 0, 1, 1], [1, 1, 1, 1, 1, 0, 0, 0, 1, 1, 0, 0, 1, 0, 0, 0, 0, 0, 1, 0, 0, 0, 1, 0, 0, 0, 1, 1, 1, 1, 1, 1], [0, 0, 0, 0, 1, 0, 0, 1, 0, 1, 0, 1, 0, 0, 1, 1, 1, 0, 1, 0, 0, 0, 1, 1, 1, 1, 0, 0, 0, 0, 1, 1], [1, 0, 1, 1, 1, 1, 1, 0, 1, 0, 1, 1, 1, 1, 0, 1, 1, 0, 1, 0, 1, 1, 1, 0, 0, 0, 0, 0, 1, 0, 1, 0], [0, 1, 1, 1, 0, 1, 1, 0, 0, 0, 1, 0, 0, 0, 0, 0, 1, 0, 1, 1, 1, 0, 1, 0, 0, 1, 1, 0, 1, 1, 0, 0], [0, 0, 0, 1, 0, 1, 0, 1, 0, 0, 1, 1, 0, 1, 1, 1, 1, 1, 0, 1, 1, 1, 0, 1, 1, 1, 0, 0, 0, 1, 1, 0], [0, 1, 0, 0, 1, 1, 0, 1, 0, 0, 0, 0, 0, 0, 0, 1, 1, 1, 0, 1, 0, 1, 0, 1, 1, 1, 0, 1, 1, 0, 0, 1], [0, 1, 1, 1, 0, 0, 0, 0, 1, 0, 0, 0, 0, 1, 0, 1, 1, 1, 1, 0, 0, 0, 0, 1, 0, 0, 0, 1, 1, 0, 1, 1], [0, 1, 1, 0, 1, 1, 0, 1, 1, 1, 0, 1, 1, 1, 1, 1, 0, 1, 1, 0, 1, 1, 0, 1, 1, 1, 1, 0, 1, 0, 0, 0], [1, 1, 0, 1, 0, 1, 1, 1, 0, 1, 0, 0, 1, 0, 0, 0, 1, 0, 1, 1, 1, 0, 0, 0, 0, 1, 0, 0, 1, 0, 1, 1], [1, 0, 1, 1, 1, 1, 1, 1, 0, 1, 0, 1, 0, 1, 0, 0, 1, 1, 1, 0, 1, 1, 0, 0, 1, 0, 1, 1, 0, 0, 1, 1], [1, 0, 1, 1, 0, 1, 1, 0, 1, 1, 1, 0, 1, 0, 1, 0, 0, 0, 0, 0, 0, 1, 0, 1, 0, 0, 1, 1, 1, 1, 0, 0], [0, 1, 0, 0, 1, 1, 1, 0, 1, 1, 0, 1, 0, 1, 1, 0, 1, 0, 1, 0, 1, 0, 1, 1, 1, 0, 0, 0, 0, 0, 0, 1], [0, 1, 1, 0, 0, 0, 0, 0, 0, 0, 0, 1, 1, 0, 1, 0, 0, 1, 1, 1, 0, 0, 0, 0, 0, 1, 0, 0, 1, 0, 1, 0], [1, 1, 1, 0, 0, 0, 0, 1, 0, 0, 1, 0, 1, 1, 0, 0, 1, 0, 0, 0, 1, 0, 0, 1, 1, 0, 0, 0, 0, 1, 1, 1], [0, 1, 0, 1, 1, 1, 1, 1, 0, 1, 0, 0, 0, 1, 1, 1, 0, 1, 1, 0, 1, 1, 1, 0, 0, 1, 0, 1, 1, 0, 0, 1], [1, 0, 1, 0, 1, 0, 1, 1, 0, 0, 0, 1, 1, 0, 0, 1, 0, 0, 0, 0, 1, 1, 0, 1, 0, 0, 1, 1, 0, 1, 1, 0], [1, 1, 1, 0, 1, 1, 1, 0, 0, 1, 1, 0, 0, 1, 0, 1, 0, 1, 1, 1, 0, 1, 1, 1, 0, 0, 1, 0, 0, 0, 1, 1], [0, 0, 0, 0, 0, 0, 0, 1, 0, 1, 0, 1, 1, 1, 0, 1, 0, 1, 0, 0, 1, 0, 1, 1, 1, 0, 1, 1, 1, 0, 0, 1], [1, 0, 1, 0, 0, 0, 0, 1, 1, 1, 1, 1, 1, 0, 0, 1, 1, 1, 0, 0, 0, 0, 0, 0, 1, 1, 1, 1, 1, 1, 1, 1], [0, 0, 0, 1, 1, 0, 1, 1, 0, 1, 1, 1, 0, 0, 1, 1, 1, 1, 1, 1, 0, 1, 0, 0, 1, 1, 1, 0, 0, 0, 0, 1], [1, 1, 1, 0, 0, 0, 1, 1, 0, 0, 0, 1, 0, 1, 1, 1, 1, 0, 0, 0, 0, 0, 1, 0, 0, 1, 1, 1, 1, 0, 1, 0], [0, 1, 1, 1, 1, 1, 0, 1, 1, 1, 0, 1, 1, 0, 1, 1, 1, 0, 0, 1, 0, 0, 0, 1, 1, 0, 0, 1, 0, 1, 1, 1], [0, 0, 1, 0, 0, 1, 1, 1, 1, 0, 1, 0, 0, 1, 1, 1, 1, 1, 0, 0, 1, 0, 1, 1, 1, 0, 0, 0, 1, 0, 0, 1], [1, 1, 0, 0, 0, 0, 0, 1, 1, 0, 0, 0, 0, 1, 1, 1, 0, 0, 0, 0, 0, 0, 0, 0, 1, 1, 1, 0, 1, 1, 1, 0], [0, 1, 0, 0, 0, 1, 0, 0, 1, 0, 0, 1, 0, 1, 0, 0, 0, 1, 0, 0, 0, 0, 0, 1, 0, 0, 0, 1, 0, 1, 0, 0], [1, 0, 1, 1, 0, 1, 1, 1, 1, 0, 0, 1, 0, 0, 1, 1, 1, 0, 0, 1, 1, 0, 1, 1, 0, 1, 0, 1, 0, 0, 0, 1], [1, 0, 0, 0, 1, 0, 1, 1, 1, 0, 1, 0, 0, 1, 0, 1, 1, 0, 0, 1, 1, 1, 1, 1, 1, 1, 1, 1, 0, 1, 1, 0], [1, 0, 1, 1, 0, 0, 0, 1, 0, 1, 0, 0, 1, 1, 1, 1, 0, 0, 0, 0, 1, 0, 1, 0, 1, 1, 1, 0, 1, 0, 1, 1], [1, 1, 0, 1, 1, 0, 1, 1, 1, 1, 1, 1, 0, 0, 0, 1, 0, 0, 0, 0, 1, 0, 1, 0, 0, 0, 0, 1, 1, 0, 1, 0], [0, 1, 0, 0, 1, 0, 0, 0, 1, 1, 1, 0, 0, 0, 1, 0, 1, 1, 1, 1, 0, 1, 1, 1, 1, 0, 0, 1, 1, 1, 0, 0], [0, 1, 1, 1, 0, 0, 1, 1, 0, 0, 0, 1, 0, 1, 0, 0, 0, 0, 1, 0, 0, 1, 1, 0, 0, 1, 0, 1, 1, 0, 1, 1], [1, 1, 1, 1, 0, 0, 0, 0, 0, 0, 0, 0, 1, 1, 0, 1, 1, 0, 0, 0, 1, 0, 0, 0, 1, 0, 1, 1, 1, 0, 1, 0], [0, 0, 1, 0, 0, 1, 1, 1, 1, 1, 0, 1, 0, 1, 0, 0, 0, 1, 0, 1, 0, 0, 1, 0, 0, 0, 1, 1, 1, 0, 0, 0], [0, 0, 1, 0, 1, 0, 0, 0, 1, 0, 0, 0, 0, 1, 0, 1, 0, 1, 0, 0, 0, 0, 0, 0, 0, 0, 1, 1, 0, 0, 0, 1], [1, 0, 0, 0, 1, 1, 1, 0, 0, 0, 0, 0, 0, 1, 0, 0, 1, 1, 0, 1, 1, 0, 0, 0, 1, 1, 1, 1, 1, 1, 1, 0], [0, 0, 0, 0, 1, 1, 1, 1, 1, 0, 1, 1, 0, 1, 0, 0, 0, 0, 1, 0, 1, 0, 0, 1, 0, 0, 0, 0, 1, 1, 1, 0], [0, 0, 0, 1, 1, 1, 1, 1, 0, 1, 1, 0, 1, 1, 0, 1, 0, 1, 1, 0, 1, 0, 0, 1, 1, 0, 0, 1, 0, 1, 1, 0], [0, 1, 0, 0, 0, 1, 1, 0, 1, 0, 0, 0, 0, 1, 0, 0, 1, 0, 1, 1, 1, 0, 1, 1, 1, 0, 1, 1, 0, 1, 0, 1], [0, 0, 0, 1, 1, 1, 0, 1, 0, 0, 0, 1, 1, 1, 1, 1, 1, 1, 0, 0, 0, 0, 1, 1, 1, 1, 0, 0, 0, 1, 0, 0], [0, 1, 0, 1, 0, 0, 0, 0, 1, 0, 1, 0, 1, 1, 0, 0, 1, 1, 0, 1, 0, 1, 0, 1, 1, 0, 0, 0, 1, 1, 1, 1], [0, 0, 0, 0, 1, 0, 1, 1, 0, 1, 1, 0, 1, 1, 1, 0, 0, 1, 0, 0, 0, 0, 0, 0, 0, 0, 1, 1, 1, 0, 1, 0], [0, 0, 1, 1, 1, 0, 1, 1, 1, 0, 0, 0, 1, 1, 1, 1, 1, 1, 1, 0, 0, 1, 1, 0, 0, 0, 1, 1, 1, 1, 0, 1], [0, 1, 0, 0, 1, 0, 1, 0, 0, 0, 0, 1, 0, 1, 1, 0, 0, 0, 0, 1, 1, 1, 0, 0, 0, 1, 0, 1, 0, 0, 1, 1], [1, 1, 0, 0, 1, 0, 0, 1, 0, 1, 1, 1, 0, 0, 0, 0, 0, 1, 0, 0, 1, 0, 1, 1, 1, 1, 1, 1, 1, 0, 1, 1], [0, 0, 1, 0, 0, 0, 1, 0, 0, 1, 0, 1, 1, 0, 0, 1, 1, 0, 1, 0, 0, 1, 1, 0, 0, 0, 0, 1, 1, 0, 1, 1], [0, 1, 1, 1, 1, 1, 0, 0, 1, 1, 1, 0, 1, 1, 0, 1, 1, 0, 1, 1, 0, 0, 1, 1, 0, 0, 0, 0, 1, 1, 0, 1], [1, 1, 0, 1, 0, 0, 0, 0, 1, 1, 1, 0, 0, 1, 0, 1, 0, 1, 1, 0, 1, 0, 0, 1, 1, 1, 0, 1, 1, 0, 0, 1], [1, 0, 1, 0, 1, 0, 0, 1, 1, 1, 1, 0, 0, 0, 0, 0, 0, 1, 1, 0, 0, 1, 1, 0, 1, 1, 1, 0, 1, 0, 0, 0], [1, 0, 1, 0, 0, 1, 0, 0, 1, 0, 1, 1, 0, 1, 0, 1, 1, 1, 1, 1, 0, 1, 0, 0, 1, 0, 0, 1, 1, 1, 0, 0], [1, 0, 1, 1, 1, 0, 1, 1, 1, 1, 0, 1, 1, 1, 0, 1, 1, 1, 1, 0, 0, 0, 0, 0, 0, 1, 0, 1, 1, 0, 0, 1], [0, 0, 0, 1, 1, 1, 0, 1, 0, 1, 0, 1, 0, 1, 0, 0, 1, 1, 1, 0, 1, 1, 1, 0, 0, 1, 1, 1, 0, 1, 0, 0], [1, 0, 0, 0, 0, 1, 0, 0, 0, 1, 0, 1, 1, 0, 0, 1, 0, 1, 0, 1, 0, 1, 0, 1, 0, 0, 1, 0, 1, 1, 1, 1], [1, 1, 1, 0, 0, 1, 1, 1, 0, 0, 1, 1, 1, 1, 1, 1, 1, 1, 0, 0, 1, 1, 1, 0, 0, 1, 0, 1, 0, 0, 0, 0], [1, 0, 0, 0, 1, 1, 1, 1, 0, 1, 1, 1, 1, 1, 0, 0, 1, 1, 0, 1, 1, 0, 1, 0, 0, 1, 1, 1, 0, 1, 0, 0], [1, 0, 0, 1, 1, 1, 0, 1, 0, 0, 1, 1, 0, 0, 1, 1, 0, 1, 1, 0, 1, 0, 0, 1, 0, 1, 1, 0, 1, 0, 1, 0], [0, 0, 0, 1, 0, 0, 1, 1, 1, 0, 0, 0, 0, 0, 0, 0, 1, 0, 1, 1, 1, 1, 1, 1, 0, 1, 1, 1, 1, 1, 1, 1], [0, 1, 1, 1, 0, 1, 0, 1, 0, 0, 0, 1, 1, 1, 0, 1, 1, 0, 0, 0, 1, 0, 1, 0, 1, 1, 0, 0, 0, 0, 1, 1], [1, 0, 1, 1, 0, 0, 1, 0, 0, 1, 1, 1, 1, 1, 0, 0, 0, 1, 0, 1, 0, 1, 0, 1, 0, 1, 1, 0, 0, 1, 0, 1], [1, 1, 1, 0, 0, 1, 0, 0, 0, 0, 1, 0, 0, 1, 0, 0, 1, 1, 1, 1, 1, 1, 1, 0, 0, 1, 1, 1, 1, 1, 0, 1], [1, 0, 1, 1, 1, 0, 0, 1, 1, 1, 1, 0, 1, 0, 1, 0, 0, 1, 0, 1, 1, 0, 0, 1, 1, 1, 1, 0, 0, 0, 0, 1], [0, 1, 0, 0, 1, 0, 0, 0, 0, 0, 0, 0, 1, 0, 1, 0, 1, 1, 1, 0, 0, 1, 1, 0, 1, 1, 1, 0, 1, 0, 1, 0], [1, 1, 1, 0, 1, 1, 0, 1, 1, 1, 1, 0, 1, 1, 0, 1, 0, 0, 1, 1, 0, 1, 1, 1, 0, 0, 0, 0, 1, 0, 1, 1], [1, 0, 1, 1, 0, 0, 1, 0, 0, 0, 1, 1, 1, 0, 1, 0, 1, 1, 0, 0, 1, 1, 0, 0, 1, 0, 1, 1, 0, 1, 0, 0], [0, 1, 1, 0, 0, 0, 0, 0, 1, 0, 1, 1, 0, 1, 1, 0, 0, 1, 0, 1, 0, 0, 1, 0, 0, 1, 0, 1, 0, 0, 0, 0]]\n"
     ]
    }
   ],
   "source": [
    "# początkowa populacja losowego ciągu bitowego\n",
    "pop = [randint(0, 2, n_bits*len(granice)).tolist() for _ in range(n_pop)]\n",
    "print(pop)"
   ]
  },
  {
   "cell_type": "markdown",
   "metadata": {},
   "source": [
    "Na koniec musimy rozszyfrować ciągi bitów na liczby przed oceną każdego z nich za pomocą funkcji celu.\n",
    "\n",
    "Możemy to osiągnąć, najpierw rozszyfrowując każdy podciąg do liczby całkowitej, a następnie skalując liczbę całkowitą do żądanego zakresu. Otrzymamy wektor wartości w zakresie, który można następnie dostarczyć do funkcji celu, by umożliwić jego ocenę.\n",
    "\n",
    "Poniższa funkcja rozszyfruj() przyjmuje granice funkcji, liczbę bitów na zmienną i ciąg bitów jako dane wejściowe i zwraca listę rozszyfrowanych wartości rzeczywistych."
   ]
  },
  {
   "cell_type": "code",
   "execution_count": 15,
   "metadata": {},
   "outputs": [],
   "source": [
    "# rozszyfruj ciąg bitów na liczby\n",
    "def rozszyfruj(granice, n_bits, bitstring):\n",
    "\trozszyfrowane = list()\n",
    "\tnajwieksze = 2**n_bits\n",
    "\tfor i in range(len(granice)):\n",
    "\t\t# wyodrębnij podciąg\n",
    "\t\tpoczatek, koniec = i * n_bits, (i * n_bits)+n_bits\n",
    "\t\tpodciag = bitstring[poczatek:koniec]\n",
    "\t\t# przekształć ciąg bitów na ciąg znaków\n",
    "\t\tznaki = ''.join([str(s) for s in podciag])\n",
    "\t\t# przekształć ciąg znaków na liczbę całkowitą\n",
    "\t\tcalkowita = int(znaki, 2)\n",
    "\t\t# skaluj liczbę całkowitą do pożądanego zakresu\n",
    "\t\twartosc = granice[i][0] + (calkowita/najwieksze) * (granice[i][1] - granice[i][0])\n",
    "\t\t# zapisz\n",
    "\t\trozszyfrowane.append(wartosc)\n",
    "\treturn rozszyfrowane"
   ]
  },
  {
   "cell_type": "markdown",
   "metadata": {},
   "source": [
    "Możemy następnie wywołać to na początku pętli algorytmu w celu rozszyfrowania populacji, a następnie oceny każdego osobnika w populacji za pomocą funkcji celu."
   ]
  },
  {
   "cell_type": "code",
   "execution_count": 16,
   "metadata": {},
   "outputs": [],
   "source": [
    "...\n",
    "# rozszyfrowanie populacji\n",
    "rozszyfrowane = [rozszyfruj(granice, n_bits, p) for p in pop]\n",
    "# ocena wszystkich kandydatów w populacji\n",
    "wyniki = [cel(d) for d in rozszyfrowane]"
   ]
  },
  {
   "cell_type": "markdown",
   "metadata": {},
   "source": [
    "Łącząc to razem, pełny przykład algorytmu genetycznego do optymalizacji funkcji ciągłej znajduje się poniżej."
   ]
  },
  {
   "cell_type": "code",
   "execution_count": 17,
   "metadata": {
    "ExecuteTime": {
     "end_time": "2023-12-09T18:16:31.541045700Z",
     "start_time": "2023-12-09T18:16:31.259205700Z"
    }
   },
   "outputs": [
    {
     "name": "stdout",
     "output_type": "stream",
     "text": [
      ">0, nowe najlepsze rozwiązanie f([0.980072021484375, 1.4208984375]) = 2.979494\n",
      ">0, nowe najlepsze rozwiązanie f([-1.417694091796875, 0.11871337890625]) = 2.023949\n",
      ">0, nowe najlepsze rozwiązanie f([-0.82244873046875, 0.608062744140625]) = 1.046162\n",
      ">0, nowe najlepsze rozwiązanie f([-0.952911376953125, 0.14404296875]) = 0.928788\n",
      ">0, nowe najlepsze rozwiązanie f([-0.338592529296875, 0.413970947265625]) = 0.286017\n",
      ">1, nowe najlepsze rozwiązanie f([-0.338592529296875, 0.246429443359375]) = 0.175372\n",
      ">2, nowe najlepsze rozwiązanie f([0.212249755859375, -0.225830078125]) = 0.096049\n",
      ">3, nowe najlepsze rozwiązanie f([0.211944580078125, 0.14892578125]) = 0.067099\n",
      ">3, nowe najlepsze rozwiązanie f([0.1348876953125, 0.11871337890625]) = 0.032288\n",
      ">4, nowe najlepsze rozwiązanie f([0.075836181640625, 0.001068115234375]) = 0.005752\n",
      ">6, nowe najlepsze rozwiązanie f([0.06103515625, -0.0439453125]) = 0.005656\n",
      ">7, nowe najlepsze rozwiązanie f([0.06103515625, -0.0433349609375]) = 0.005603\n",
      ">9, nowe najlepsze rozwiązanie f([0.0103759765625, 0.01953125]) = 0.000489\n",
      ">10, nowe najlepsze rozwiązanie f([0.010833740234375, 0.003509521484375]) = 0.000130\n",
      ">11, nowe najlepsze rozwiązanie f([0.009918212890625, 0.0]) = 0.000098\n",
      ">12, nowe najlepsze rozwiązanie f([0.000152587890625, 0.0]) = 0.000000\n",
      ">14, nowe najlepsze rozwiązanie f([0.0, 0.0]) = 0.000000\n",
      "Koniec!\n",
      "f([0.0, 0.0]) = 0.000000\n"
     ]
    }
   ],
   "source": [
    "# importowanie funkcji randint i rand z biblioteki numpy\n",
    "\n",
    "from numpy.random import randint\n",
    "from numpy.random import rand\n",
    "\n",
    "# funkcja celu\n",
    "def cel(x):\n",
    "\treturn x[0]**2.0 + x[1]**2.0\n",
    "\n",
    "# dekodowanie ciągu bitów na liczby\n",
    "def rozszyfruj(granice, n_bits, bitstring):\n",
    "\trozszyfrowane = list()\n",
    "\tnajwieksze = 2**n_bits\n",
    "\tfor i in range(len(granice)):\n",
    "\t\t# wyodrębnij podciąg\n",
    "\t\tpoczatek, koniec = i * n_bits, (i * n_bits)+n_bits\n",
    "\t\tpodciag = bitstring[poczatek:koniec]\n",
    "\t\t# przekształć ciąg bitów na ciąg znaków\n",
    "\t\tznaki = ''.join([str(s) for s in podciag])\n",
    "\t\t# przekształć ciąg znaków na liczbę całkowitą\n",
    "\t\tcalkowita = int(znaki, 2)\n",
    "\t\t# skaluj liczbę całkowitą do pożądanego zakresu\n",
    "\t\twartosc = granice[i][0] + (calkowita/najwieksze) * (granice[i][1] - granice[i][0])\n",
    "\t\t# zapisz\n",
    "\t\trozszyfrowane.append(wartosc)\n",
    "\treturn rozszyfrowane\n",
    "\n",
    "# selekcja turniejowa\n",
    "def selekcja(pop, wyniki, k=3):\n",
    "\t# pierwszy losowy wybór\n",
    "\tselekcja_ix = randint(len(pop))\n",
    "\tfor ix in randint(0, len(pop), k-1):\n",
    "\t\t# sprawdź, czy lepsze\n",
    "\t\tif wyniki[ix] < wyniki[selekcja_ix]:\n",
    "\t\t\tselekcja_ix = ix\n",
    "\treturn pop[selekcja_ix]\n",
    "\n",
    "# krzyżowanie dwóch rodziców w celu wygenerowania dwojga potomków\n",
    "def krzyzowanie(p1, p2, r_cross):\n",
    "    # potomkowie domyślnie są kopią rodziców\n",
    "\tc1, c2 = p1.copy(), p2.copy()\n",
    "\t# sprawdzanie w celu rekombinacji\n",
    "\tif rand() < r_cross:\n",
    "        # wybór punktu krzyżowania, który nie znajduje się na końcu ciągu\n",
    "\t\tpt = randint(1, len(p1)-2)\n",
    "\t\t# wykonanie krzyżowania\n",
    "\t\tc1 = p1[:pt] + p2[pt:]\n",
    "\t\tc2 = p2[:pt] + p1[pt:]\n",
    "\treturn [c1, c2]\n",
    "\n",
    "# operator mutacji\n",
    "def mutacja(bitstring, r_mut):\n",
    "\tfor i in range(len(bitstring)):\n",
    "\t\t# sprawdzanie w celu przeprowadzenie mutacji\n",
    "\t\tif rand() < r_mut:\n",
    "\t\t\t# odwrócenie bitu\n",
    "\t\t\tbitstring[i] = 1 - bitstring[i]\n",
    "\n",
    "# algorytm genetyczny\n",
    "def algorytm_genetyczny(cel, granice, n_bits, n_iter, n_pop, r_cross, r_mut):\n",
    "\t# początkowa populacja losowego ciągu bitowego\n",
    "\tpop = [randint(0, 2, n_bits*len(granice)).tolist() for _ in range(n_pop)]\n",
    "\t# śledzenie najlepszego rozwiązania\n",
    "\tbest, best_eval = 0, cel(rozszyfruj(granice, n_bits, pop[0]))\n",
    "\t# wyliczanie pokoleń\n",
    "\tfor gen in range(n_iter):\n",
    "\t\t# rozszyfrowanie populacji\n",
    "\t\trozszyfrowane = [rozszyfruj(granice, n_bits, p) for p in pop]\n",
    "\t\t# ocena wszystkich kandydatów w populacji\n",
    "\t\twyniki = [cel(d) for d in rozszyfrowane]\n",
    "\t\t# sprawdzenie nowych najlepszych rozwiązań\n",
    "\t\tfor i in range(n_pop):\n",
    "\t\t\tif wyniki[i] < best_eval:\n",
    "\t\t\t\tbest, best_eval = pop[i], wyniki[i]\n",
    "\t\t\t\tprint(\">%d, nowe najlepsze rozwiązanie f(%s) = %f\" % (gen,  rozszyfrowane[i], wyniki[i]))\n",
    "\t\t# wybór rodziców\n",
    "\t\twybrani = [selekcja(pop, wyniki) for _ in range(n_pop)]\n",
    "\t\t# stworzenie nowej generacji\n",
    "\t\tdzieci = list()\n",
    "\t\tfor i in range(0, n_pop, 2):\n",
    "\t\t\t# połączenie wybranych rodziców w pary\n",
    "\t\t\tp1, p2 = wybrani[i], wybrani[i+1]\n",
    "\t\t\t# krzyżowanie i mutacja\n",
    "\t\t\tfor c in krzyzowanie(p1, p2, r_cross):\n",
    "\t\t\t\t# mutacja\n",
    "\t\t\t\tmutacja(c, r_mut)\n",
    "\t\t\t\t# przechowywanie wyników dla następnego pokolenia\n",
    "\t\t\t\tdzieci.append(c)\n",
    "\t\t# zastąpienie populacji\n",
    "\t\tpop = dzieci\n",
    "\treturn [best, best_eval]\n",
    "\n",
    "# zakres\n",
    "granice = [[-5.0, 5.0], [-5.0, 5.0]]\n",
    "# ilość iteracji\n",
    "n_iter = 100\n",
    "# liczba bitów na zmienną\n",
    "n_bits = 16\n",
    "# wielkość populacji\n",
    "n_pop = 100\n",
    "# współczynnik krzyżowania\n",
    "r_cross = 0.9\n",
    "# współczynnik mutacji\n",
    "r_mut = 1.0 / (float(n_bits) * len(granice))\n",
    "# przeprowadzenie wyszukiwania algorytmu genetycznego\n",
    "best, score = algorytm_genetyczny(cel, granice, n_bits, n_iter, n_pop, r_cross, r_mut)\n",
    "print('Koniec!')\n",
    "rozszyfrowane = rozszyfruj(granice, n_bits, best)\n",
    "print('f(%s) = %f' % (rozszyfrowane, score))"
   ]
  }
 ],
 "metadata": {
  "kernelspec": {
   "display_name": "Python 3",
   "language": "python",
   "name": "python3"
  },
  "language_info": {
   "codemirror_mode": {
    "name": "ipython",
    "version": 3
   },
   "file_extension": ".py",
   "mimetype": "text/x-python",
   "name": "python",
   "nbconvert_exporter": "python",
   "pygments_lexer": "ipython3",
   "version": "3.12.0"
  }
 },
 "nbformat": 4,
 "nbformat_minor": 2
}
